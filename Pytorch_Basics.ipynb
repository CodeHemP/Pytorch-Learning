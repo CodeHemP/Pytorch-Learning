{
  "nbformat": 4,
  "nbformat_minor": 0,
  "metadata": {
    "colab": {
      "name": "Pytorch Basics.ipynb",
      "provenance": [],
      "authorship_tag": "ABX9TyP1Td0TPYDa/oAOPCXtDILK",
      "include_colab_link": true
    },
    "kernelspec": {
      "name": "python3",
      "display_name": "Python 3"
    },
    "accelerator": "GPU"
  },
  "cells": [
    {
      "cell_type": "markdown",
      "metadata": {
        "id": "view-in-github",
        "colab_type": "text"
      },
      "source": [
        "<a href=\"https://colab.research.google.com/github/ashishpatel26/Pytorch-Learning/blob/main/Pytorch_Basics.ipynb\" target=\"_parent\"><img src=\"https://colab.research.google.com/assets/colab-badge.svg\" alt=\"Open In Colab\"/></a>"
      ]
    },
    {
      "cell_type": "markdown",
      "metadata": {
        "id": "0UejjJB1QXb8"
      },
      "source": [
        "## Torch\r\n",
        "* Tensors are matrix-like data structures which are essential components in deep learning libraries and efficient computation. \r\n",
        "* **Graphical Processing Units (GPUs)** are especially effective at calculating operations between tensors, and this has spurred the surge in deep learning capability in recent times. \r\n",
        "* In **PyTorch**, tensors can be declared simply in a number of ways:\r\n",
        "![](https://cdn-images-1.medium.com/max/2000/1*_D5ZvufDS38WkhK9rK32hQ.jpeg)"
      ]
    },
    {
      "cell_type": "markdown",
      "metadata": {
        "id": "Wdb44SCCQx1l"
      },
      "source": [
        "**Constuct the 4 X 4 Matrix Empty Matrix**"
      ]
    },
    {
      "cell_type": "code",
      "metadata": {
        "id": "YvvA4u8zQN3b"
      },
      "source": [
        "import torch\r\n",
        "import numpy as np"
      ],
      "execution_count": 1,
      "outputs": []
    },
    {
      "cell_type": "code",
      "metadata": {
        "colab": {
          "base_uri": "https://localhost:8080/"
        },
        "id": "l7fyc6B2RSCI",
        "outputId": "f97f0684-b3a7-4c1c-ae41-0c4cd61af446"
      },
      "source": [
        "x = torch.empty(4,4)\r\n",
        "x"
      ],
      "execution_count": 2,
      "outputs": [
        {
          "output_type": "execute_result",
          "data": {
            "text/plain": [
              "tensor([[1.4656e-35, 0.0000e+00, 3.3631e-44, 0.0000e+00],\n",
              "        [       nan, 0.0000e+00, 1.1578e+27, 1.1362e+30],\n",
              "        [7.1547e+22, 4.5828e+30, 1.2121e+04, 7.1846e+22],\n",
              "        [9.2198e-39, 7.0374e+22, 0.0000e+00, 0.0000e+00]])"
            ]
          },
          "metadata": {
            "tags": []
          },
          "execution_count": 2
        }
      ]
    },
    {
      "cell_type": "markdown",
      "metadata": {
        "id": "fnzJVRU7ROBI"
      },
      "source": [
        "**Convert to numpy**"
      ]
    },
    {
      "cell_type": "code",
      "metadata": {
        "colab": {
          "base_uri": "https://localhost:8080/"
        },
        "id": "TCsRM2lQRDca",
        "outputId": "5ab8dc42-c279-4196-83d4-2af6f7b2ab31"
      },
      "source": [
        "x.numpy()"
      ],
      "execution_count": 4,
      "outputs": [
        {
          "output_type": "execute_result",
          "data": {
            "text/plain": [
              "array([[1.46564860e-35, 0.00000000e+00, 3.36311631e-44, 0.00000000e+00],\n",
              "       [           nan, 0.00000000e+00, 1.15783705e+27, 1.13616057e+30],\n",
              "       [7.15473767e+22, 4.58281141e+30, 1.21210947e+04, 7.18458933e+22],\n",
              "       [9.21978159e-39, 7.03735270e+22, 0.00000000e+00, 0.00000000e+00]],\n",
              "      dtype=float32)"
            ]
          },
          "metadata": {
            "tags": []
          },
          "execution_count": 4
        }
      ]
    },
    {
      "cell_type": "markdown",
      "metadata": {
        "id": "oR5FcOwkRa1C"
      },
      "source": [
        "**Size of the Tensor**"
      ]
    },
    {
      "cell_type": "code",
      "metadata": {
        "colab": {
          "base_uri": "https://localhost:8080/"
        },
        "id": "efk-DdDJRYWx",
        "outputId": "f7e6d92c-595c-4603-ecb6-ab317a953355"
      },
      "source": [
        "x.size()"
      ],
      "execution_count": 5,
      "outputs": [
        {
          "output_type": "execute_result",
          "data": {
            "text/plain": [
              "torch.Size([4, 4])"
            ]
          },
          "metadata": {
            "tags": []
          },
          "execution_count": 5
        }
      ]
    },
    {
      "cell_type": "markdown",
      "metadata": {
        "id": "NTvy0tPXRf2z"
      },
      "source": [
        "From numpy to tensor"
      ]
    },
    {
      "cell_type": "code",
      "metadata": {
        "colab": {
          "base_uri": "https://localhost:8080/"
        },
        "id": "6LD9n3ZaRdA_",
        "outputId": "bb53668a-384f-4d65-a87a-b7698a8753ef"
      },
      "source": [
        "a = np.array([[5,7],[7,5]])\r\n",
        "b = torch.from_numpy(a)\r\n",
        "b"
      ],
      "execution_count": 7,
      "outputs": [
        {
          "output_type": "execute_result",
          "data": {
            "text/plain": [
              "tensor([[5, 7],\n",
              "        [7, 5]])"
            ]
          },
          "metadata": {
            "tags": []
          },
          "execution_count": 7
        }
      ]
    },
    {
      "cell_type": "markdown",
      "metadata": {
        "id": "05NAafQ4Sft5"
      },
      "source": [
        "**Direct from Data**"
      ]
    },
    {
      "cell_type": "code",
      "metadata": {
        "colab": {
          "base_uri": "https://localhost:8080/"
        },
        "id": "GkB09zoMSic8",
        "outputId": "dd93e071-725c-4de7-e751-f53a8d0210b6"
      },
      "source": [
        "data = [[1,5], [3,4]]\r\n",
        "x_data = torch.tensor(data)\r\n",
        "x_data"
      ],
      "execution_count": 8,
      "outputs": [
        {
          "output_type": "execute_result",
          "data": {
            "text/plain": [
              "tensor([[1, 5],\n",
              "        [3, 4]])"
            ]
          },
          "metadata": {
            "tags": []
          },
          "execution_count": 8
        }
      ]
    },
    {
      "cell_type": "markdown",
      "metadata": {
        "id": "9T2hEjM9S0Fk"
      },
      "source": [
        "**From another tensor:**\r\n",
        "\r\n",
        "The new tensor retains the properties (shape, datatype) of the argument tensor, unless explicitly overridden."
      ]
    },
    {
      "cell_type": "code",
      "metadata": {
        "colab": {
          "base_uri": "https://localhost:8080/"
        },
        "id": "J4b4FqZqS4X3",
        "outputId": "921764de-1382-455a-d37b-f95184dd6540"
      },
      "source": [
        "x_ones = torch.ones_like(x_data)\r\n",
        "print(f\"One Tensor : \\n{x_ones}\")\r\n",
        "\r\n",
        "x_rand = torch.rand_like(x_data, dtype=torch.float)\r\n",
        "print(f\"Random Tensor : \\n{x_rand}\")"
      ],
      "execution_count": 14,
      "outputs": [
        {
          "output_type": "stream",
          "text": [
            "One Tensor : \n",
            "tensor([[1, 1],\n",
            "        [1, 1]])\n",
            "Random Tensor : \n",
            "tensor([[0.3426, 0.2591],\n",
            "        [0.9305, 0.0297]])\n"
          ],
          "name": "stdout"
        }
      ]
    },
    {
      "cell_type": "markdown",
      "metadata": {
        "id": "2zrJ0Lb_Tg7p"
      },
      "source": [
        "**Random and Constant Values**\r\n",
        "* `shape` is a tuple of tensor dimensions."
      ]
    },
    {
      "cell_type": "code",
      "metadata": {
        "colab": {
          "base_uri": "https://localhost:8080/"
        },
        "id": "g-jXskKzTsOL",
        "outputId": "b3b76475-873a-43d7-b441-9a0709806957"
      },
      "source": [
        "shape = (2,3, )\r\n",
        "print(f\"Random Tensor : \\n{torch.rand(shape)}\")\r\n",
        "print(f\"Ones Tensor : \\n{torch.ones(shape)}\")\r\n",
        "print(f\"Zeros Tensor : \\n{torch.zeros(shape)}\")"
      ],
      "execution_count": 16,
      "outputs": [
        {
          "output_type": "stream",
          "text": [
            "Random Tensor : \n",
            "tensor([[0.4141, 0.2186, 0.1870],\n",
            "        [0.4319, 0.6876, 0.6715]])\n",
            "Ones Tensor : \n",
            "tensor([[1., 1., 1.],\n",
            "        [1., 1., 1.]])\n",
            "Zeros Tensor : \n",
            "tensor([[0., 0., 0.],\n",
            "        [0., 0., 0.]])\n"
          ],
          "name": "stdout"
        }
      ]
    },
    {
      "cell_type": "markdown",
      "metadata": {
        "id": "9IRu-22OUGwh"
      },
      "source": [
        "### Tensor Attributes\r\n",
        "* Tensor attributes describe their shape, datatype, and the device on which they are stored."
      ]
    },
    {
      "cell_type": "code",
      "metadata": {
        "colab": {
          "base_uri": "https://localhost:8080/"
        },
        "id": "6M5mVTCrUOQ0",
        "outputId": "6c53714f-93bb-426c-b84d-f39602d6be89"
      },
      "source": [
        "tensor = torch.rand(3,4)\r\n",
        "print(f\"Shape of the Tensor: {tensor.shape}\")\r\n",
        "print(f\"Datatypes of the tensor: {tensor.dtype}\")\r\n",
        "print(f\"Device tensor is stored on: {tensor.device}\")"
      ],
      "execution_count": 17,
      "outputs": [
        {
          "output_type": "stream",
          "text": [
            "Shape of the Tensor: torch.Size([3, 4])\n",
            "Datatypes of the tensor: torch.float32\n",
            "Device tensor is stored on: cpu\n"
          ],
          "name": "stdout"
        }
      ]
    },
    {
      "cell_type": "markdown",
      "metadata": {
        "id": "qU2vYxseR7sL"
      },
      "source": [
        "### Tensor Operation\r\n",
        "* Over 100 tensor operations, including transposing, indexing, slicing, mathematical operations, linear algebra, random sampling, and more are comprehensively described [here](https://pytorch.org/docs/stable/torch.html)."
      ]
    },
    {
      "cell_type": "code",
      "metadata": {
        "id": "va24-cqQRvgu"
      },
      "source": [
        "if torch.cuda.is_available():\r\n",
        "  tensor = tensor.to('cuda')"
      ],
      "execution_count": 21,
      "outputs": []
    },
    {
      "cell_type": "markdown",
      "metadata": {
        "id": "Wtbyd6rcV4lS"
      },
      "source": [
        "**Basic Tensor Operation**\r\n",
        "![](https://devblogs.nvidia.com/wp-content/uploads/2018/05/tesnor_core_diagram.png)\r\n",
        "\r\n",
        "* Addition(`torch.add()`)\r\n",
        "* Substraction(`torch.sub()`)\r\n",
        "* Division(`torch.div()`)\r\n",
        "* Multiplication(`torch.mul()`)"
      ]
    },
    {
      "cell_type": "code",
      "metadata": {
        "colab": {
          "base_uri": "https://localhost:8080/"
        },
        "id": "fXNbTx4aVcUp",
        "outputId": "64983d92-e03a-4381-fe71-2a5d3bf6827d"
      },
      "source": [
        "# Initialization\r\n",
        "a = torch.rand(2,2)\r\n",
        "b = torch.rand(2,2)\r\n",
        "\r\n",
        "# Old Method\r\n",
        "print(a + b)\r\n",
        "\r\n",
        "# New Method\r\n",
        "print(torch.add(a,b))"
      ],
      "execution_count": 24,
      "outputs": [
        {
          "output_type": "stream",
          "text": [
            "tensor([[0.8708, 0.9539],\n",
            "        [0.8925, 1.3085]])\n",
            "tensor([[0.8708, 0.9539],\n",
            "        [0.8925, 1.3085]])\n"
          ],
          "name": "stdout"
        }
      ]
    },
    {
      "cell_type": "code",
      "metadata": {
        "colab": {
          "base_uri": "https://localhost:8080/"
        },
        "id": "-hxuCTXyXr1j",
        "outputId": "f0c63aa4-07e0-43d8-8fbe-d9450dc317c1"
      },
      "source": [
        "# Old Method\r\n",
        "print(a - b)\r\n",
        "# New Method\r\n",
        "print(torch.sub(a,b))"
      ],
      "execution_count": 25,
      "outputs": [
        {
          "output_type": "stream",
          "text": [
            "tensor([[-0.0467, -0.6151],\n",
            "        [-0.3391,  0.1613]])\n",
            "tensor([[-0.0467, -0.6151],\n",
            "        [-0.3391,  0.1613]])\n"
          ],
          "name": "stdout"
        }
      ]
    },
    {
      "cell_type": "code",
      "metadata": {
        "colab": {
          "base_uri": "https://localhost:8080/"
        },
        "id": "TzCwZV1vYIJa",
        "outputId": "df544a38-35c0-4326-9c0a-02961a244be1"
      },
      "source": [
        "# Old Method\r\n",
        "print(a * b)\r\n",
        "\r\n",
        "# New Method\r\n",
        "print(torch.mul(a,b))"
      ],
      "execution_count": 26,
      "outputs": [
        {
          "output_type": "stream",
          "text": [
            "tensor([[0.1890, 0.1329],\n",
            "        [0.1704, 0.4215]])\n",
            "tensor([[0.1890, 0.1329],\n",
            "        [0.1704, 0.4215]])\n"
          ],
          "name": "stdout"
        }
      ]
    },
    {
      "cell_type": "code",
      "metadata": {
        "colab": {
          "base_uri": "https://localhost:8080/"
        },
        "id": "lCKV5GooYWir",
        "outputId": "f48d22ba-1c1d-48c8-8cdf-fc9b68fa6f1a"
      },
      "source": [
        "# Old Method\r\n",
        "print(a / b)\r\n",
        "# New Method\r\n",
        "print(torch.div(a,b))"
      ],
      "execution_count": 27,
      "outputs": [
        {
          "output_type": "stream",
          "text": [
            "tensor([[0.8983, 0.2159],\n",
            "        [0.4493, 1.2813]])\n",
            "tensor([[0.8983, 0.2159],\n",
            "        [0.4493, 1.2813]])\n"
          ],
          "name": "stdout"
        }
      ]
    },
    {
      "cell_type": "markdown",
      "metadata": {
        "id": "cMwHWjtvYgIm"
      },
      "source": [
        "**Add x to y**"
      ]
    },
    {
      "cell_type": "code",
      "metadata": {
        "colab": {
          "base_uri": "https://localhost:8080/"
        },
        "id": "nTcTry62Ydx0",
        "outputId": "60a4c2cf-f07a-4e13-f4c2-66bbf8dd9209"
      },
      "source": [
        "# a directly add to b and answer stored in b\r\n",
        "print(f\"b value before adding into a : \\n{b}\")\r\n",
        "b.add_(a)\r\n",
        "print(f\"b value after adding into a : \\n{b}\")"
      ],
      "execution_count": 28,
      "outputs": [
        {
          "output_type": "stream",
          "text": [
            "b value before adding into a : \n",
            "tensor([[0.4587, 0.7845],\n",
            "        [0.6158, 0.5736]])\n",
            "b value after adding into a : \n",
            "tensor([[0.8708, 0.9539],\n",
            "        [0.8925, 1.3085]])\n"
          ],
          "name": "stdout"
        }
      ]
    },
    {
      "cell_type": "markdown",
      "metadata": {
        "id": "GWZRoA9xY5EQ"
      },
      "source": [
        "**Standard Numpy like Indexing**"
      ]
    },
    {
      "cell_type": "code",
      "metadata": {
        "colab": {
          "base_uri": "https://localhost:8080/"
        },
        "id": "O-hpiL15Y1-D",
        "outputId": "805008ab-5ba4-4863-aec4-5ed78c662ef2"
      },
      "source": [
        "print(f\"Column 0 : {a[:,0]}\")\r\n",
        "print(f\"Column 1 : {a[:,1]}\")"
      ],
      "execution_count": 31,
      "outputs": [
        {
          "output_type": "stream",
          "text": [
            "Column 0 : tensor([0.4121, 0.2767])\n",
            "Column 1 : tensor([0.1694, 0.7349])\n"
          ],
          "name": "stdout"
        }
      ]
    },
    {
      "cell_type": "markdown",
      "metadata": {
        "id": "Jtp1HXjLZ1j1"
      },
      "source": [
        "**Resizing**"
      ]
    },
    {
      "cell_type": "code",
      "metadata": {
        "colab": {
          "base_uri": "https://localhost:8080/"
        },
        "id": "hO4G9voCY_F4",
        "outputId": "238ddf93-41c4-4f63-f0ff-dab42e70128c"
      },
      "source": [
        "x = torch.rand(4,4)\r\n",
        "print(f\"x: \\n{x}\")\r\n",
        "y = x.view(16) # View is used to flatten the tensor\r\n",
        "print(f\"y : \\n{y}\")\r\n",
        "z = x.view(-1, 8) # the size -1 is inferred from other dimensions\r\n",
        "print(f\"z : \\n{z}\")\r\n",
        "print(f\"Size of x : {x.size()}\\nSize of y : {y.size()}\\nSize of z : {z.size()}\")"
      ],
      "execution_count": 42,
      "outputs": [
        {
          "output_type": "stream",
          "text": [
            "x: \n",
            "tensor([[0.8652, 0.5624, 0.2412, 0.5409],\n",
            "        [0.2230, 0.1732, 0.7071, 0.4156],\n",
            "        [0.1426, 0.7136, 0.5535, 0.4098],\n",
            "        [0.2926, 0.8536, 0.9006, 0.6357]])\n",
            "y : \n",
            "tensor([0.8652, 0.5624, 0.2412, 0.5409, 0.2230, 0.1732, 0.7071, 0.4156, 0.1426,\n",
            "        0.7136, 0.5535, 0.4098, 0.2926, 0.8536, 0.9006, 0.6357])\n",
            "z : \n",
            "tensor([[0.8652, 0.5624, 0.2412, 0.5409, 0.2230, 0.1732, 0.7071, 0.4156],\n",
            "        [0.1426, 0.7136, 0.5535, 0.4098, 0.2926, 0.8536, 0.9006, 0.6357]])\n",
            "Size of x : torch.Size([4, 4])\n",
            "Size of y : torch.Size([16])\n",
            "Size of z : torch.Size([2, 8])\n"
          ],
          "name": "stdout"
        }
      ]
    },
    {
      "cell_type": "markdown",
      "metadata": {
        "id": "XRScor2SbdwR"
      },
      "source": [
        "---\r\n",
        "Note : Any operation that mutates a tensor in-place is post-fixed with an . For example: `x.copy_(y)`, `x.t_()`, will change x.\r\n",
        "for more about tensor go on this link : https://pytorch.org/docs/stable/tensors.html\r\n",
        "\r\n",
        "\r\n",
        "---"
      ]
    }
  ]
}